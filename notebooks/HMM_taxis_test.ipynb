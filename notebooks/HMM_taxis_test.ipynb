{
 "cells": [
  {
   "cell_type": "code",
   "execution_count": 1,
   "metadata": {},
   "outputs": [],
   "source": [
    "import sys\n",
    "import numpy as np\n",
    "import matplotlib.pyplot as plt\n",
    "import time\n",
    "import math\n",
    "\n",
    "from sklearn.cluster import KMeans\n",
    "from scipy.special import factorial\n",
    "from scipy.stats import poisson\n",
    "\n",
    "import seaborn as sns\n",
    "sns.set_style(\"white\")\n",
    "sns.set_context(\"talk\")\n",
    "\n",
    "%matplotlib inline"
   ]
  },
  {
   "cell_type": "markdown",
   "metadata": {},
   "source": [
    "The idea is to buid a HMM model that infers state changes during chemotaxis. I expect to capture state transitions during chemotaxis and non-stationarity over optogenetic stimulations.\n",
    "\n",
    "An extention to GLM-HMM and input-driven AR-HMM would be ideal to capture sensory-guided behavior that is both switching and continously driven by input.\n",
    "\n",
    "The following test codes follows the PRML book and Sarah's matalb code..."
   ]
  },
  {
   "cell_type": "code",
   "execution_count": 120,
   "metadata": {},
   "outputs": [
    {
     "data": {
      "text/plain": [
       "(3, 1000)"
      ]
     },
     "execution_count": 120,
     "metadata": {},
     "output_type": "execute_result"
    },
    {
     "data": {
      "image/png": "[encoded data removed]",
      "text/plain": [
       "<Figure size 432x288 with 1 Axes>"
      ]
     },
     "metadata": {
      "needs_background": "light"
     },
     "output_type": "display_data"
    },
    {
     "data": {
      "image/png": "[encoded data removed]",
      "text/plain": [
       "<Figure size 432x288 with 1 Axes>"
      ]
     },
     "metadata": {
      "needs_background": "light"
     },
     "output_type": "display_data"
    }
   ],
   "source": [
    "##simple simulation state-modulated Poisson process\n",
    "#parameters\n",
    "# X = np.random.randi(4,1000)  #data (4X1000 for example eigen worm time series)\n",
    "#X = np.random.randint(5, size=(4,1000))\n",
    "N = 3   #observations  (eigen worms)\n",
    "T = 1000  #time series\n",
    "nstates = 2  #number of states\n",
    "\n",
    "xx = np.arange(0,T)\n",
    "zz = np.sin(xx/10)\n",
    "zz[zz>=0] = 1\n",
    "#pos = np.intersect1d(np.where(zz<1)[0],np.where(zz>-0.5)[0])\n",
    "#zz[pos]=2\n",
    "zz[zz<=0] = 0\n",
    "plt.plot(zz)\n",
    "\n",
    "X = []\n",
    "for ii in range(0,N):\n",
    "    pp = np.zeros(T)\n",
    "    pos = np.where(zz==0)[0]\n",
    "    pp[pos] = np.random.poisson(1,size=(len(pos)))\n",
    "    pos = np.where(zz==1)[0]\n",
    "    pp[pos] = np.random.poisson(2,size=(len(pos)))\n",
    "    X.append(pp)#*zz)\n",
    "\n",
    "plt.figure()\n",
    "plt.imshow(X,aspect='auto')\n",
    "X = np.array(X)\n",
    "X.shape"
   ]
  },
  {
   "cell_type": "code",
   "execution_count": 166,
   "metadata": {},
   "outputs": [
    {
     "data": {
      "text/plain": [
       "array([ 1.26730712, -1.56958968, -0.60699797])"
      ]
     },
     "execution_count": 166,
     "metadata": {},
     "output_type": "execute_result"
    }
   ],
   "source": [
    "np.sum(np.random.randn(2,3),axis=0)"
   ]
  },
  {
   "cell_type": "code",
   "execution_count": 192,
   "metadata": {},
   "outputs": [],
   "source": [
    "###Test with HMM modulated Poisson process\n",
    "\n",
    "#input fake data initialization\n",
    "maxiter = 50  #iterations of update\n",
    "tol = 0.000  #tolerance of error\n",
    "\n",
    "pi = np.ones(nstates)/nstates  #initial distribution\n",
    "A = np.ones((nstates,nstates))/nstates**2  #initial transition matrix\n",
    "temp = np.random.rand(nstates,nstates)\n",
    "A = temp/np.sum(temp)\n",
    "\n",
    "#initialize emitted clusters\n",
    "kmeans = KMeans(n_clusters=nstates, random_state=0).fit(X.T)   #initialize with k-means\n",
    "temp = kmeans.labels_\n",
    "labels = np.zeros((T,nstates))\n",
    "for tt in range(0,T):\n",
    "    labels[tt,temp[tt]] = 1   #identifying transition in the time series\n",
    "\n",
    "#initialize emission paramter (Poisson rate here)\n",
    "lams = np.zeros((N,nstates))\n",
    "for nn in range(0,N):\n",
    "    lams[nn,:] = np.matmul(X[nn,:],labels)/np.sum(labels,axis=0)  #initialize with mean count\n",
    "\n",
    "#log-likelihood\n",
    "LL_train = np.empty(maxiter)\n",
    "dLL = 1\n",
    "ii = 0\n",
    "\n",
    "#Update iteration\n",
    "while ii<maxiter-1:\n",
    "    ##### forward recursion #####\n",
    "    #initialization\n",
    "    alphas = np.zeros((T,nstates))  #forward pass alphas\n",
    "    px_z = np.zeros((T,nstates))    #data likelihood (probability of x given k)\n",
    "    c = np.zeros(T)                 #variable to store marginal\n",
    "    \n",
    "    #px_z[0,:] = np.exp( np.nansum(-lams + np.matmul(X[:,0],np.log(lams)) - np.log(math.factorial(X[:,0]))) )  \n",
    "    px_z[0,:] = 1*np.exp( np.nansum(-lams + np.repeat(X[:,0][:,None],nstates,axis=1)*np.log(lams) \n",
    "                                    - np.repeat(np.log(factorial(X[:,0]))[:,None],nstates,axis=1),axis=0) ) \n",
    "    #Poisson rate, should change to GLM (!!!???)\n",
    "    \n",
    "    alphas[0,:] = pi*px_z[0,:]          #initial alpha, equation 13.37 \n",
    "    c[0] = np.sum(alphas[0,:]);         #store marginal likelihood\n",
    "    alphas[0,:] = alphas[0,:]/c[0]      #normalize 13.59\n",
    "    \n",
    "    #iterate of alpha\n",
    "    for tt in range(1,T):\n",
    "        #p(x|z)(n,:) = prod(exp(-lambdas).*lambdas.^spikes(:,n)./fac_spikes(:,n))\n",
    "        ###px_k(1,:) = exp(nansum(-lambdas + spikes(:,1).*log(lambdas) - log(fac_spikes(:,1))));\n",
    "        temp = np.exp( np.nansum(-lams + np.repeat(X[:,tt][:,None],nstates,axis=1)*np.log(lams) \n",
    "                              - np.repeat(np.log(factorial(X[:,tt]))[:,None],nstates,axis=1),axis=0) ) \n",
    "        px_z[tt,:] = temp#/np.sum(temp)\n",
    "        alphas[tt,:] = px_z[tt,:]*np.sum(alphas[tt-1,:]*A,axis=1)   # equation 13.36  \n",
    "    \n",
    "        c[tt] = np.sum(alphas[tt,:]);                        # marginal likelihood\n",
    "        alphas[tt,:] = alphas[tt,:]/np.sum(alphas[tt,:])     # normalize 13.59\n",
    "        \n",
    "    LL_train[ii] = np.sum(np.log(c));                          #store log-likelihood\n",
    "    if ii>0:\n",
    "        dLL = LL_train[ii] - LL_train[ii-1]      #compute difference if >1 iterations have occurred\n",
    "        \n",
    "    ##### backward recursion #####\n",
    "    #initialization\n",
    "    betas = np.zeros((T,nstates))    #backward passing beta\n",
    "    betas[-1,:] = np.ones(nstates)/nstates   #inital beta (13.39)\n",
    "    \n",
    "    #iterate of beta\n",
    "    backt = np.arange(T-2,-1,-1)\n",
    "    for tt in backt:\n",
    "        betas[tt,:] = np.sum(betas[tt+1,:]*px_z[tt+1,:]*A,axis=1) #equation  13.38 \n",
    "        betas[tt,:] = betas[tt,:]/c[tt+1]                         #normalize 13.62\n",
    "        \n",
    "    ##### Update parameters #####\n",
    "    #gamma - eq. 13.33\n",
    "    temp = alphas*betas\n",
    "    gammas = temp/np.repeat(np.sum(temp,axis=1)[:,None],nstates,axis=1)\n",
    "    \n",
    "    #xi - eq. 13.43\n",
    "    xis = np.zeros((T-1,nstates,nstates))\n",
    "    for tt in range(1,T):\n",
    "        xis[tt-1,:,:] = alphas[tt-1,:]*px_z[tt,:]*A*betas[tt,:]\n",
    "        xis[tt-1,:] = xis[tt-1,:]/np.sum(xis[tt-1,:])\n",
    "    \n",
    "    #initial state prob - eq. 13.18\n",
    "    pi = gammas[0,:]/np.sum(gammas[0,:])\n",
    "    \n",
    "    #transition matrix  - eq. 12.19\n",
    "    A = np.sum(xis,axis=0)#np.squeeze(np.sum(xis,axis=0))\n",
    "    A = A/np.sum(A,axis=1)\n",
    "    \n",
    "    #emission probability - eq. 13.23\n",
    "    for nn in range(0,N):\n",
    "        lams[nn,:] = np.matmul(X[nn,:],gammas)/np.sum(gammas,axis=0)\n",
    "\n",
    "    ii = ii + 1"
   ]
  },
  {
   "cell_type": "code",
   "execution_count": 193,
   "metadata": {},
   "outputs": [
    {
     "name": "stdout",
     "output_type": "stream",
     "text": [
      "49\n",
      "-5.194924597162753e-07\n"
     ]
    },
    {
     "data": {
      "image/png": "[encoded data removed]",
      "text/plain": [
       "<Figure size 432x288 with 1 Axes>"
      ]
     },
     "metadata": {
      "needs_background": "light"
     },
     "output_type": "display_data"
    }
   ],
   "source": [
    "plt.plot(LL_train)\n",
    "print(ii)\n",
    "print(dLL)"
   ]
  },
  {
   "cell_type": "markdown",
   "metadata": {},
   "source": [
    "Modified the Viterbi algorithm from this repository: https://github.com/nhchristianson/PoissonHMM"
   ]
  },
  {
   "cell_type": "code",
   "execution_count": 223,
   "metadata": {},
   "outputs": [],
   "source": [
    "seq = X[0,:]\n",
    "theta = np.log(A)\n",
    "delta = np.log(pi)\n",
    "lambdas = lams[0,:]"
   ]
  },
  {
   "cell_type": "code",
   "execution_count": 230,
   "metadata": {},
   "outputs": [],
   "source": [
    "def _sp_lpmf(mean, val):\n",
    "    if mean == -1:\n",
    "        if val == -1:\n",
    "            return 0\n",
    "        else:\n",
    "            return -np.inf\n",
    "    elif mean >= 0:\n",
    "        if val == -1:\n",
    "            return -np.inf\n",
    "        else:\n",
    "            return poisson(mean).logpmf(val)"
   ]
  },
  {
   "cell_type": "code",
   "execution_count": 225,
   "metadata": {},
   "outputs": [],
   "source": [
    "v_n = [0.0 for _ in range(nstates)]\n",
    "vlst = [v_n]\n",
    "wlst = []\n",
    "for i in range(len(seq) - 1, 0, -1):\n",
    "    v_i = []\n",
    "    w_i = []\n",
    "    for j in range(nstates):\n",
    "        all_v_ij = []\n",
    "        for k in range(nstates):\n",
    "            temp = theta[j, k] + _sp_lpmf(lambdas[k], seq[i])\n",
    "            temp += vlst[-1][k]\n",
    "            all_v_ij.append(temp)\n",
    "        v_i.append(max(all_v_ij))\n",
    "        w_i.append(np.argmax(all_v_ij))\n",
    "    vlst.append(v_i)\n",
    "    wlst.append(w_i)\n",
    "wlst.reverse()\n",
    "first_prob = [_sp_lpmf(lambdas[i], seq[0]) for i in range(nstates)]\n",
    "first_prob = np.add(first_prob, delta)\n",
    "first_prob = np.add(first_prob, vlst[-1])\n",
    "h_1 = np.argmax(first_prob)\n",
    "statelst = [h_1]\n",
    "for i in range(len(wlst)):\n",
    "    statelst.append(wlst[i][statelst[-1]])\n"
   ]
  },
  {
   "cell_type": "code",
   "execution_count": 241,
   "metadata": {},
   "outputs": [
    {
     "data": {
      "text/plain": [
       "[<matplotlib.lines.Line2D at 0x1a1d4150f0>]"
      ]
     },
     "execution_count": 241,
     "metadata": {},
     "output_type": "execute_result"
    },
    {
     "data": {
      "image/png": "[encoded data removed]",
      "text/plain": [
       "<Figure size 432x288 with 1 Axes>"
      ]
     },
     "metadata": {
      "needs_background": "light"
     },
     "output_type": "display_data"
    }
   ],
   "source": [
    "plt.plot(statelst[:500])\n",
    "plt.plot(zz[:500],'--')"
   ]
  },
  {
   "cell_type": "code",
   "execution_count": null,
   "metadata": {},
   "outputs": [],
   "source": []
  },
  {
   "cell_type": "code",
   "execution_count": 194,
   "metadata": {},
   "outputs": [],
   "source": [
    "# def viterbi(y, A, B, Pi=None):\n",
    "#     \"\"\"\n",
    "#     Return the MAP estimate of state trajectory of Hidden Markov Model.\n",
    "\n",
    "#     Parameters\n",
    "#     ----------\n",
    "#     y : array (T,)\n",
    "#         Observation state sequence. int dtype.\n",
    "#     A : array (K, K)\n",
    "#         State transition matrix. See HiddenMarkovModel.state_transition  for\n",
    "#         details.\n",
    "#     B : array (K, M)\n",
    "#         Emission matrix. See HiddenMarkovModel.emission for details.\n",
    "#     Pi: optional, (K,)\n",
    "#         Initial state probabilities: Pi[i] is the probability x[0] == i. If\n",
    "#         None, uniform initial distribution is assumed (Pi[:] == 1/K).\n",
    "\n",
    "#     Returns\n",
    "#     -------\n",
    "#     x : array (T,)\n",
    "#         Maximum a posteriori probability estimate of hidden state trajectory,\n",
    "#         conditioned on observation sequence y under the model parameters A, B,\n",
    "#         Pi.\n",
    "#     T1: array (K, T)\n",
    "#         the probability of the most likely path so far\n",
    "#     T2: array (K, T)\n",
    "#         the x_j-1 of the most likely path so far\n",
    "#     \"\"\"\n",
    "#     # Cardinality of the state space\n",
    "#     K = A.shape[0]\n",
    "#     # Initialize the priors with default (uniform dist) if not given by caller\n",
    "#     Pi = Pi if Pi is not None else np.full(K, 1 / K)\n",
    "#     T = len(y)\n",
    "#     T1 = np.empty((K, T), 'd')\n",
    "#     T2 = np.empty((K, T), 'B')\n",
    "\n",
    "#     # Initilaize the tracking tables from first observation\n",
    "#     T1[:, 0] = Pi * B[:, y[0]]\n",
    "#     T2[:, 0] = 0\n",
    "\n",
    "#     # Iterate throught the observations updating the tracking tables\n",
    "#     for i in range(1, T):\n",
    "#         T1[:, i] = np.max(T1[:, i - 1] * A.T * B[np.newaxis, :, y[i]].T, 1)\n",
    "#         T2[:, i] = np.argmax(T1[:, i - 1] * A.T, 1)\n",
    "\n",
    "#     # Build the output, optimal model trajectory\n",
    "#     x = np.empty(T, 'B')\n",
    "#     x[-1] = np.argmax(T1[:, T - 1])\n",
    "#     for i in reversed(range(1, T)):\n",
    "#         x[i - 1] = T2[x[i], i]\n",
    "\n",
    "#     return x, T1, T2\n",
    "\n",
    "# sec = np.array(X[0,:],dtype=int)\n",
    "# test_emit = labels[:,0]*1+labels[:,1]*2\n",
    "# x,T1,T2 = viterbi(np.array(test_emit,dtype=int), A, lams.T,Pi=None)"
   ]
  },
  {
   "cell_type": "code",
   "execution_count": null,
   "metadata": {},
   "outputs": [],
   "source": []
  },
  {
   "cell_type": "code",
   "execution_count": null,
   "metadata": {},
   "outputs": [],
   "source": [
    "function [A,pi,lambdas,gammas,LL_train,LL_test] = runHMM(nstates,spikes,spikes_test,varargin)\n",
    "\n",
    "%% %%%%%%%%%%%%%%%%%%%%%% Input parameters %%%%%%%%%%%%%%%%%%%%%%%%%%%%%%%%\n",
    "p = inputParser;\n",
    "p.addRequired('nstates');       % number of hidden states\n",
    "p.addRequired('spikes');        % observations for each neuron - train set\n",
    "p.addRequired('spikes_test');   % observations for each neuron - test set\n",
    "p.addParameter('maxiter', 50);  % maximum number of iterations\n",
    "p.addParameter('tol', 0.01);    % difference in log-likelihood to meet completion criteria\n",
    "\n",
    "p.parse(nstates,spikes,spikes_test,varargin{:});\n",
    "s = parserToOutput(p);\n",
    "for i = 1:length(s), eval(s{i}); end\n",
    "\n",
    "\n",
    "%% %%%%%%%%%%%%%%%%%%%%%%%%% Run model %%%%%%%%%%%%%%%%%%%%%%%%%%%%%%%%%%%%\n",
    "% initialize model parameters\n",
    "nunits = size(spikes,1);              % number of neurons\n",
    "nstim = size(spikes,2);               % number of train stimuli\n",
    "nstim_test = size(spikes_test,2);     % number of test stimuli\n",
    "pi = ones(1,nstates)/nstates;         % uniform initial state probabilites\n",
    "A = ones(nstates)/nstates^2;          % uniform transition probabilities\n",
    "\n",
    "% initialize latent states with kmeans to initialize poisson rates\n",
    "tmp = kmeans(spikes',nstates);\n",
    "labl = zeros(nstim,nstates);\n",
    "for t = 1:nstim\n",
    "  labl(t,tmp(t)) = 1;\n",
    "end\n",
    "\n",
    "% initialize poisson rates as mean spike rate of initialized states\n",
    "lambdas = nan(nunits,nstates);\n",
    "for iN = 1:nunits\n",
    "  lambdas(iN,:) = (spikes(iN,:)*labl)./sum(labl);\n",
    "end\n",
    "\n",
    "% other variables\n",
    "LL_train = nan(1,maxiter);   % train forward log-likelihood at the end of each iteration\n",
    "LL_test = nan(1,maxiter);    % test forward log-likelihood at the end of each iteration\n",
    "dLL = 1;                     % initialize LL difference to run loop\n",
    "i = 0;                       % loop iterator\n",
    "\n",
    "% precompute factorials for speed\n",
    "fac_spikes = factorial(spikes);\n",
    "fac_spikes_test = factorial(spikes_test);\n",
    "\n",
    "while dLL>tol && i<maxiter\n",
    "  i = i+1;\n",
    "  \n",
    "  %% %%%%%%%%%%%%%%%%%%% Forward recursion %%%%%%%%%%%%%%%%%%%%%%%%%%%%%%%%\n",
    "  % initialize variables\n",
    "  alphas = nan(nstim,nstates);  % forward pass alphas\n",
    "  px_k = nan(nstim,nstates);    % data likelihood\n",
    "  c = nan(1,nstim);             % variable to store marginal\n",
    "  \n",
    "  % probability of initial observation given initial state = k (Poisson) is\n",
    "  % the product of individual observations given inital state = k\n",
    "  %px_k(1,:) = prod(exp(-lambdas).*lambdas.^spikes(:,1)./fac_spikes(:,1));\n",
    "  px_k(1,:) = exp(nansum(-lambdas + spikes(:,1).*log(lambdas) - log(fac_spikes(:,1))));\n",
    "  alphas(1,:) = pi.*px_k(1,:);                % initial alpha, equation 13.37 \n",
    "  \n",
    "  c(1) = sum(alphas(1,:));                    % store marginal likelihood\n",
    "  alphas(1,:) = alphas(1,:)/sum(alphas(1,:)); % normalize 13.59\n",
    "  \n",
    "  % solve for remaining alphas\n",
    "  for n=2:nstim\n",
    "    % p(x|z)\n",
    "    %px_k(n,:) = prod(exp(-lambdas).*lambdas.^spikes(:,n)./fac_spikes(:,n));\n",
    "    px_k(n,:) = exp(nansum(-lambdas + spikes(:,n).*log(lambdas) - log(fac_spikes(:,n)))); \n",
    "    alphas(n,:) = px_k(n,:).*sum(alphas(n-1,:)'.*A);  % equation 13.36  \n",
    "    \n",
    "    c(n) = sum(alphas(n,:));                          % marginal likelihood\n",
    "    alphas(n,:) = alphas(n,:)/sum(alphas(n,:));       % normalize 13.59\n",
    "  end\n",
    "  LL_train(i) = sum(log(c));                          % store log-likelihood\n",
    "  if i>1, dLL = LL_train(i) - LL_train(i-1); end      % compute difference if >1 iterations have occurred\n",
    "  \n",
    "  %% %%%%%%%%%%%%%%%%%%%%% Backward recursion %%%%%%%%%%%%%%%%%%%%%%%%%%%%%\n",
    "  % initialize variables\n",
    "  betas = nan(nstim,nstates);                 % backward pass beta\n",
    "  betas(end,:) = ones(1,nstates);             % initial beta (13.39)\n",
    "  \n",
    "  % solve for remaining betas\n",
    "  for n = nstim-1:-1:1\n",
    "    betas(n,:) = sum(betas(n+1,:).*px_k(n+1,:).*A,2);  % equation 13.38   \n",
    "    betas(n,:) = betas(n,:)/c(n+1);                    % normalize 13.62\n",
    "  end\n",
    "  \n",
    "  %% %%%%%%%%%%%%%%%%%% Forward pass on test set %%%%%%%%%%%%%%%%%%%%%%%%%%\n",
    "  % initialize variables\n",
    "  alphas_test = nan(nstim_test,nstates); \n",
    "  c_test = nan(1,nstim_test);\n",
    "  px_k_test = nan(nstim_test,nstates);\n",
    "   \n",
    "  %px_k_test(1,:) = prod(exp(-lambdas).*lambdas.^spikes_test(:,1)./fac_spikes_test(:,1));\n",
    "  px_k_test(1,:) = exp(nansum(-lambdas + spikes_test(:,1).*log(lambdas) - log(fac_spikes_test(:,1))));\n",
    "  alphas_test(1,:) = pi.*px_k_test(1,:);                         % initial alpha, equation 13.37 \n",
    "  \n",
    "  c_test(1) = sum(alphas_test(1,:));                             % marginal likelihood\n",
    "  alphas_test(1,:) = alphas_test(1,:)/sum(alphas_test(1,:));     % normalize 13.59\n",
    "  \n",
    "  % solve for remaining alphas\n",
    "  for n=2:nstim_test\n",
    "    % p(x|z)\n",
    "    %px_k_test(n,:) = prod(exp(-lambdas).*lambdas.^spikes_test(:,n)./fac_spikes_test(:,n));\n",
    "    px_k_test(n,:) = exp(nansum(-lambdas + spikes_test(:,n).*log(lambdas) - log(fac_spikes_test(:,n))));\n",
    "    alphas_test(n,:) = px_k_test(n,:).*sum(alphas_test(n-1,:)'.*A);  % equation 13.36\n",
    "  \n",
    "    c_test(n) = sum(alphas_test(n,:));                               % marginal likelihood\n",
    "    alphas_test(n,:) = alphas_test(n,:)/sum(alphas_test(n,:));       % normalize 13.59\n",
    "  end\n",
    "  LL_test(i) = sum(log(c_test));        % store log-likelihood\n",
    "  \n",
    "  %% %%%%%%%%%%%%%%%%%% Update model parameters %%%%%%%%%%%%%%%%%%%%%%%%%\n",
    "  % gamma - eq. 13.32\n",
    "  tmp = alphas.*betas;\n",
    "  gammas = tmp./sum(tmp,2); \n",
    "  \n",
    "  % xi - eq. 13.43\n",
    "  xis = nan(nstim-1,nstates,nstates);\n",
    "  for n = 2:nstim\n",
    "    xis(n-1,:,:) = alphas(n-1,:)'.*(px_k(n,:).*A).*betas(n,:);\n",
    "    xis(n-1,:) = xis(n-1,:)/sum(xis(n-1,:));\n",
    "  end\n",
    "  \n",
    "  % initial state probability - eq. 13.18\n",
    "  pi = gammas(1,:)/sum(gammas(1,:));\n",
    "  \n",
    "  % transition matrix - eq 13.19\n",
    "  A = squeeze(sum(xis));\n",
    "  A = A./sum(A);\n",
    "  \n",
    "  % emission probability - eq. 13.23 \n",
    "  for iN = 1:nunits\n",
    "    lambdas(iN,:) = (spikes(iN,:)*gammas)./sum(gammas);\n",
    "  end\n",
    "end\n",
    "\n",
    "% store ending forward log-likelihood\n",
    "LL_train(isnan(LL_train)) = []; % get rid of nan values\n",
    "LL_test(isnan(LL_test)) = [];\n",
    "\n",
    "\n",
    "function s = parserToOutput(p)\n",
    "% Takes a parser and does the output parts for you\n",
    "for i = 1:length(p.Parameters)\n",
    "  s{i} = [p.Parameters{i} '= p.Results.' p.Parameters{i} ';'];\n",
    "end\n"
   ]
  }
 ],
 "metadata": {
  "kernelspec": {
   "display_name": "Python 3",
   "language": "python",
   "name": "python3"
  },
  "language_info": {
   "codemirror_mode": {
    "name": "ipython",
    "version": 3
   },
   "file_extension": ".py",
   "mimetype": "text/x-python",
   "name": "python",
   "nbconvert_exporter": "python",
   "pygments_lexer": "ipython3",
   "version": "3.7.3"
  }
 },
 "nbformat": 4,
 "nbformat_minor": 2
}
